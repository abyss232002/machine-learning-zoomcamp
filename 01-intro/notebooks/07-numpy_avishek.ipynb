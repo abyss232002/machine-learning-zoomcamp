{
 "cells": [
  {
   "cell_type": "markdown",
   "id": "502da6a2",
   "metadata": {},
   "source": [
    "# Machine Learning Zoomcamp\n",
    "\n",
    "\n",
    "## 1.7 Introduction to NumPy\n",
    "\n",
    "\n",
    "Plan:\n",
    "\n",
    "* Creating arrays\n",
    "* Multi-dimensional arrays\n",
    "* Randomly generated arrays\n",
    "* Element-wise operations\n",
    "    * Comparison operations\n",
    "    * Logical operations\n",
    "* Summarizing operations"
   ]
  },
  {
   "cell_type": "code",
   "execution_count": 2,
   "id": "3716debb",
   "metadata": {},
   "outputs": [
    {
     "name": "stdout",
     "output_type": "stream",
     "text": [
      "Requirement already satisfied: pandas in /home/abyssde232024/mlzoomcamp2024/machine-learning-zoomcamp/.venv/lib/python3.10/site-packages (2.2.3)\n",
      "Requirement already satisfied: numpy in /home/abyssde232024/mlzoomcamp2024/machine-learning-zoomcamp/.venv/lib/python3.10/site-packages (2.1.1)\n",
      "Requirement already satisfied: matplotlib in /home/abyssde232024/mlzoomcamp2024/machine-learning-zoomcamp/.venv/lib/python3.10/site-packages (3.9.2)\n",
      "Requirement already satisfied: seaborn in /home/abyssde232024/mlzoomcamp2024/machine-learning-zoomcamp/.venv/lib/python3.10/site-packages (0.13.2)\n",
      "Requirement already satisfied: scikit-learn in /home/abyssde232024/mlzoomcamp2024/machine-learning-zoomcamp/.venv/lib/python3.10/site-packages (1.5.2)\n",
      "Requirement already satisfied: python-dateutil>=2.8.2 in /home/abyssde232024/mlzoomcamp2024/machine-learning-zoomcamp/.venv/lib/python3.10/site-packages (from pandas) (2.9.0.post0)\n",
      "Requirement already satisfied: pytz>=2020.1 in /home/abyssde232024/mlzoomcamp2024/machine-learning-zoomcamp/.venv/lib/python3.10/site-packages (from pandas) (2024.2)\n",
      "Requirement already satisfied: tzdata>=2022.7 in /home/abyssde232024/mlzoomcamp2024/machine-learning-zoomcamp/.venv/lib/python3.10/site-packages (from pandas) (2024.2)\n",
      "Requirement already satisfied: contourpy>=1.0.1 in /home/abyssde232024/mlzoomcamp2024/machine-learning-zoomcamp/.venv/lib/python3.10/site-packages (from matplotlib) (1.3.0)\n",
      "Requirement already satisfied: cycler>=0.10 in /home/abyssde232024/mlzoomcamp2024/machine-learning-zoomcamp/.venv/lib/python3.10/site-packages (from matplotlib) (0.12.1)\n",
      "Requirement already satisfied: fonttools>=4.22.0 in /home/abyssde232024/mlzoomcamp2024/machine-learning-zoomcamp/.venv/lib/python3.10/site-packages (from matplotlib) (4.54.1)\n",
      "Requirement already satisfied: kiwisolver>=1.3.1 in /home/abyssde232024/mlzoomcamp2024/machine-learning-zoomcamp/.venv/lib/python3.10/site-packages (from matplotlib) (1.4.7)\n",
      "Requirement already satisfied: packaging>=20.0 in /home/abyssde232024/mlzoomcamp2024/machine-learning-zoomcamp/.venv/lib/python3.10/site-packages (from matplotlib) (24.1)\n",
      "Requirement already satisfied: pillow>=8 in /home/abyssde232024/mlzoomcamp2024/machine-learning-zoomcamp/.venv/lib/python3.10/site-packages (from matplotlib) (10.4.0)\n",
      "Requirement already satisfied: pyparsing>=2.3.1 in /home/abyssde232024/mlzoomcamp2024/machine-learning-zoomcamp/.venv/lib/python3.10/site-packages (from matplotlib) (3.1.4)\n",
      "Requirement already satisfied: scipy>=1.6.0 in /home/abyssde232024/mlzoomcamp2024/machine-learning-zoomcamp/.venv/lib/python3.10/site-packages (from scikit-learn) (1.14.1)\n",
      "Requirement already satisfied: joblib>=1.2.0 in /home/abyssde232024/mlzoomcamp2024/machine-learning-zoomcamp/.venv/lib/python3.10/site-packages (from scikit-learn) (1.4.2)\n",
      "Requirement already satisfied: threadpoolctl>=3.1.0 in /home/abyssde232024/mlzoomcamp2024/machine-learning-zoomcamp/.venv/lib/python3.10/site-packages (from scikit-learn) (3.5.0)\n",
      "Requirement already satisfied: six>=1.5 in /home/abyssde232024/mlzoomcamp2024/machine-learning-zoomcamp/.venv/lib/python3.10/site-packages (from python-dateutil>=2.8.2->pandas) (1.16.0)\n",
      "Note: you may need to restart the kernel to use updated packages.\n"
     ]
    }
   ],
   "source": [
    "%pip install pandas numpy  matplotlib  seaborn  scikit-learn"
   ]
  },
  {
   "cell_type": "code",
   "execution_count": 3,
   "id": "2ea40190",
   "metadata": {},
   "outputs": [],
   "source": [
    "import pandas as pd"
   ]
  },
  {
   "cell_type": "code",
   "execution_count": 4,
   "id": "5fcd9f3b",
   "metadata": {},
   "outputs": [
    {
     "data": {
      "text/plain": [
       "<module 'pandas' from '/home/abyssde232024/mlzoomcamp2024/machine-learning-zoomcamp/.venv/lib/python3.10/site-packages/pandas/__init__.py'>"
      ]
     },
     "execution_count": 4,
     "metadata": {},
     "output_type": "execute_result"
    }
   ],
   "source": [
    "pd"
   ]
  },
  {
   "cell_type": "code",
   "execution_count": 5,
   "id": "6367e9a7",
   "metadata": {},
   "outputs": [
    {
     "data": {
      "text/plain": [
       "'2.2.3'"
      ]
     },
     "execution_count": 5,
     "metadata": {},
     "output_type": "execute_result"
    }
   ],
   "source": [
    "pd.__version__"
   ]
  },
  {
   "cell_type": "code",
   "execution_count": 6,
   "id": "95aa5b76",
   "metadata": {},
   "outputs": [],
   "source": [
    "import numpy as np"
   ]
  },
  {
   "cell_type": "code",
   "execution_count": 7,
   "id": "aa693c84",
   "metadata": {},
   "outputs": [
    {
     "data": {
      "text/plain": [
       "<module 'numpy' from '/home/abyssde232024/mlzoomcamp2024/machine-learning-zoomcamp/.venv/lib/python3.10/site-packages/numpy/__init__.py'>"
      ]
     },
     "execution_count": 7,
     "metadata": {},
     "output_type": "execute_result"
    }
   ],
   "source": [
    "np"
   ]
  },
  {
   "cell_type": "markdown",
   "id": "1e3ff2dc",
   "metadata": {},
   "source": [
    "## Creating arrays\n"
   ]
  },
  {
   "cell_type": "code",
   "execution_count": 8,
   "id": "783c3362",
   "metadata": {},
   "outputs": [
    {
     "data": {
      "text/plain": [
       "array([0., 0., 0., 0., 0., 0., 0., 0., 0., 0.])"
      ]
     },
     "execution_count": 8,
     "metadata": {},
     "output_type": "execute_result"
    }
   ],
   "source": [
    "np.zeros(10)"
   ]
  },
  {
   "cell_type": "code",
   "execution_count": 9,
   "id": "2fc75d89",
   "metadata": {},
   "outputs": [
    {
     "data": {
      "text/plain": [
       "array([1., 1., 1., 1., 1., 1., 1., 1., 1., 1.])"
      ]
     },
     "execution_count": 9,
     "metadata": {},
     "output_type": "execute_result"
    }
   ],
   "source": [
    "np.ones(10)"
   ]
  },
  {
   "cell_type": "code",
   "execution_count": 10,
   "id": "5183483b",
   "metadata": {},
   "outputs": [
    {
     "data": {
      "text/plain": [
       "array([2.5, 2.5, 2.5, 2.5, 2.5, 2.5, 2.5, 2.5, 2.5, 2.5])"
      ]
     },
     "execution_count": 10,
     "metadata": {},
     "output_type": "execute_result"
    }
   ],
   "source": [
    "np.full(10, 2.5)"
   ]
  },
  {
   "cell_type": "code",
   "execution_count": 11,
   "id": "fe81664d",
   "metadata": {},
   "outputs": [
    {
     "data": {
      "text/plain": [
       "array([ 1,  2,  3,  5,  7, 12])"
      ]
     },
     "execution_count": 11,
     "metadata": {},
     "output_type": "execute_result"
    }
   ],
   "source": [
    "a = np.array([1, 2, 3, 5, 7, 12])\n",
    "a"
   ]
  },
  {
   "cell_type": "code",
   "execution_count": 12,
   "id": "dee26035",
   "metadata": {},
   "outputs": [],
   "source": [
    "a[2] = 10"
   ]
  },
  {
   "cell_type": "code",
   "execution_count": 13,
   "id": "0cf95a0f",
   "metadata": {},
   "outputs": [
    {
     "data": {
      "text/plain": [
       "array([ 1,  2, 10,  5,  7, 12])"
      ]
     },
     "execution_count": 13,
     "metadata": {},
     "output_type": "execute_result"
    }
   ],
   "source": [
    "a"
   ]
  },
  {
   "cell_type": "code",
   "execution_count": 14,
   "id": "9a579406",
   "metadata": {},
   "outputs": [
    {
     "data": {
      "text/plain": [
       "array([3, 4, 5, 6, 7, 8, 9])"
      ]
     },
     "execution_count": 14,
     "metadata": {},
     "output_type": "execute_result"
    }
   ],
   "source": [
    "np.arange(3, 10)"
   ]
  },
  {
   "cell_type": "code",
   "execution_count": 18,
   "id": "ee932da4",
   "metadata": {},
   "outputs": [
    {
     "data": {
      "text/plain": [
       "array([ 2,  4,  6,  8, 10])"
      ]
     },
     "execution_count": 18,
     "metadata": {},
     "output_type": "execute_result"
    }
   ],
   "source": [
    "np.arange(2, 11, 2) "
   ]
  },
  {
   "cell_type": "code",
   "execution_count": 21,
   "id": "96260ddb",
   "metadata": {},
   "outputs": [
    {
     "data": {
      "text/plain": [
       "array([  1.,  12.,  23.,  34.,  45.,  56.,  67.,  78.,  89., 100.])"
      ]
     },
     "execution_count": 21,
     "metadata": {},
     "output_type": "execute_result"
    }
   ],
   "source": [
    "np.linspace(1, 100, 10)"
   ]
  },
  {
   "cell_type": "markdown",
   "id": "37f36946",
   "metadata": {},
   "source": [
    "## Multi-dimensional arrays\n"
   ]
  },
  {
   "cell_type": "code",
   "execution_count": 22,
   "id": "b4a61c53",
   "metadata": {},
   "outputs": [
    {
     "data": {
      "text/plain": [
       "array([[0., 0.],\n",
       "       [0., 0.],\n",
       "       [0., 0.],\n",
       "       [0., 0.],\n",
       "       [0., 0.]])"
      ]
     },
     "execution_count": 22,
     "metadata": {},
     "output_type": "execute_result"
    }
   ],
   "source": [
    "np.zeros((5, 2))"
   ]
  },
  {
   "cell_type": "code",
   "execution_count": 35,
   "id": "4f75f854",
   "metadata": {},
   "outputs": [],
   "source": [
    "n = np.array([\n",
    "    [1, 2, 3],\n",
    "    [4, 5, 6],\n",
    "    [7, 8, 9]\n",
    "])"
   ]
  },
  {
   "cell_type": "code",
   "execution_count": 32,
   "id": "07f6a7cb",
   "metadata": {},
   "outputs": [],
   "source": [
    "b= [[11, 12, 13], [\"a\", \"b\", \"c\"], [17, 18, 19]]\n",
    "b= [[11, 12, 13], [14, 15, 16], [17, 18, 19]]"
   ]
  },
  {
   "cell_type": "code",
   "execution_count": 33,
   "id": "6145bffa",
   "metadata": {},
   "outputs": [
    {
     "data": {
      "text/plain": [
       "array([[22, 24, 26],\n",
       "       [28, 30, 32],\n",
       "       [34, 36, 38]])"
      ]
     },
     "execution_count": 33,
     "metadata": {},
     "output_type": "execute_result"
    }
   ],
   "source": [
    "m = np.array(b)\n",
    "m\n",
    "m*2"
   ]
  },
  {
   "cell_type": "code",
   "execution_count": 36,
   "id": "619860f6",
   "metadata": {},
   "outputs": [],
   "source": [
    "m[0, 1] = 20"
   ]
  },
  {
   "cell_type": "code",
   "execution_count": 37,
   "id": "54333fc7",
   "metadata": {},
   "outputs": [
    {
     "data": {
      "text/plain": [
       "array([[11, 20, 13],\n",
       "       [14, 15, 16],\n",
       "       [17, 18, 19]])"
      ]
     },
     "execution_count": 37,
     "metadata": {},
     "output_type": "execute_result"
    }
   ],
   "source": [
    "m"
   ]
  },
  {
   "cell_type": "code",
   "execution_count": 38,
   "id": "57eef634",
   "metadata": {},
   "outputs": [],
   "source": [
    "m[2] = [1, 1, 1]"
   ]
  },
  {
   "cell_type": "code",
   "execution_count": 39,
   "id": "b3fa6ae7",
   "metadata": {},
   "outputs": [
    {
     "data": {
      "text/plain": [
       "array([[11, 20, 13],\n",
       "       [14, 15, 16],\n",
       "       [ 1,  1,  1]])"
      ]
     },
     "execution_count": 39,
     "metadata": {},
     "output_type": "execute_result"
    }
   ],
   "source": [
    "m"
   ]
  },
  {
   "cell_type": "code",
   "execution_count": 40,
   "id": "42f1d1f4",
   "metadata": {},
   "outputs": [],
   "source": [
    "n[:, 2] = [0, 1, 2]"
   ]
  },
  {
   "cell_type": "code",
   "execution_count": 41,
   "id": "13442277",
   "metadata": {},
   "outputs": [
    {
     "data": {
      "text/plain": [
       "array([[1, 2, 0],\n",
       "       [4, 5, 1],\n",
       "       [7, 8, 2]])"
      ]
     },
     "execution_count": 41,
     "metadata": {},
     "output_type": "execute_result"
    }
   ],
   "source": [
    "n"
   ]
  },
  {
   "cell_type": "markdown",
   "id": "62ba6337",
   "metadata": {},
   "source": [
    "## Randomly generated arrays\n"
   ]
  },
  {
   "cell_type": "code",
   "execution_count": 43,
   "id": "6781ff11",
   "metadata": {},
   "outputs": [
    {
     "data": {
      "text/plain": [
       "array([[43.59949021,  2.59262318],\n",
       "       [54.96624779, 43.53223926],\n",
       "       [42.03678021, 33.0334821 ],\n",
       "       [20.4648634 , 61.92709664],\n",
       "       [29.96546737, 26.68272751]])"
      ]
     },
     "execution_count": 43,
     "metadata": {},
     "output_type": "execute_result"
    }
   ],
   "source": [
    "np.random.seed(2)\n",
    "100 * np.random.rand(5, 2)"
   ]
  },
  {
   "cell_type": "code",
   "execution_count": 48,
   "id": "15bbd3a2",
   "metadata": {},
   "outputs": [
    {
     "data": {
      "text/plain": [
       "array([[[0.5507979 , 0.70814782],\n",
       "        [0.29090474, 0.51082761],\n",
       "        [0.89294695, 0.89629309]],\n",
       "\n",
       "       [[0.12558531, 0.20724288],\n",
       "        [0.0514672 , 0.44080984],\n",
       "        [0.02987621, 0.45683322]],\n",
       "\n",
       "       [[0.64914405, 0.27848728],\n",
       "        [0.6762549 , 0.59086282],\n",
       "        [0.02398188, 0.55885409]],\n",
       "\n",
       "       [[0.25925245, 0.4151012 ],\n",
       "        [0.28352508, 0.69313792],\n",
       "        [0.44045372, 0.15686774]],\n",
       "\n",
       "       [[0.54464902, 0.78031476],\n",
       "        [0.30636353, 0.22195788],\n",
       "        [0.38797126, 0.93638365]]])"
      ]
     },
     "execution_count": 48,
     "metadata": {},
     "output_type": "execute_result"
    }
   ],
   "source": [
    "np.random.seed(3)\n",
    "np.random.rand(5,3, 2)"
   ]
  },
  {
   "cell_type": "code",
   "execution_count": 49,
   "id": "4374e58b",
   "metadata": {},
   "outputs": [
    {
     "data": {
      "text/plain": [
       "array([[-0.41675785, -0.05626683],\n",
       "       [-2.1361961 ,  1.64027081],\n",
       "       [-1.79343559, -0.84174737],\n",
       "       [ 0.50288142, -1.24528809],\n",
       "       [-1.05795222, -0.90900761]])"
      ]
     },
     "execution_count": 49,
     "metadata": {},
     "output_type": "execute_result"
    }
   ],
   "source": [
    "np.random.seed(2)\n",
    "np.random.randn(5, 2)"
   ]
  },
  {
   "cell_type": "code",
   "execution_count": 50,
   "id": "ebb39565",
   "metadata": {},
   "outputs": [
    {
     "data": {
      "text/plain": [
       "array([[40, 15],\n",
       "       [72, 22],\n",
       "       [43, 82],\n",
       "       [75,  7],\n",
       "       [34, 49]])"
      ]
     },
     "execution_count": 50,
     "metadata": {},
     "output_type": "execute_result"
    }
   ],
   "source": [
    "np.random.seed(2)\n",
    "np.random.randint(low=0, high=100, size=(5, 2))"
   ]
  },
  {
   "cell_type": "markdown",
   "id": "364c6d7c",
   "metadata": {},
   "source": [
    "## Element-wise operations\n"
   ]
  },
  {
   "cell_type": "code",
   "execution_count": 57,
   "id": "51390a32",
   "metadata": {},
   "outputs": [
    {
     "data": {
      "text/plain": [
       "array([[68, 46],\n",
       "       [70, 95],\n",
       "       [83, 31],\n",
       "       [66, 80],\n",
       "       [52, 76]])"
      ]
     },
     "execution_count": 57,
     "metadata": {},
     "output_type": "execute_result"
    }
   ],
   "source": [
    "a = np.arange(5)\n",
    "a = np.random.randint(0, 100, size=(5, 2))\n",
    "a"
   ]
  },
  {
   "cell_type": "code",
   "execution_count": 58,
   "id": "6e87e9b0",
   "metadata": {},
   "outputs": [],
   "source": [
    "b = (10 + (a * 2)) ** 2 / 100"
   ]
  },
  {
   "cell_type": "code",
   "execution_count": 59,
   "id": "013a9e2a",
   "metadata": {},
   "outputs": [
    {
     "data": {
      "text/plain": [
       "array([[213.16, 104.04],\n",
       "       [225.  , 400.  ],\n",
       "       [309.76,  51.84],\n",
       "       [201.64, 289.  ],\n",
       "       [129.96, 262.44]])"
      ]
     },
     "execution_count": 59,
     "metadata": {},
     "output_type": "execute_result"
    }
   ],
   "source": [
    "b"
   ]
  },
  {
   "cell_type": "code",
   "execution_count": 60,
   "id": "08592c4a",
   "metadata": {},
   "outputs": [
    {
     "data": {
      "text/plain": [
       "array([[10.31900919, 10.44213764],\n",
       "       [10.31111111, 10.2375    ],\n",
       "       [10.26794938, 10.59799383],\n",
       "       [10.32731601, 10.27681661],\n",
       "       [10.40012311, 10.28959   ]])"
      ]
     },
     "execution_count": 60,
     "metadata": {},
     "output_type": "execute_result"
    }
   ],
   "source": [
    "a / b + 10"
   ]
  },
  {
   "cell_type": "markdown",
   "id": "35fc84d3",
   "metadata": {},
   "source": [
    "## Comparison operations"
   ]
  },
  {
   "cell_type": "code",
   "execution_count": 61,
   "id": "e26eefdc",
   "metadata": {},
   "outputs": [
    {
     "data": {
      "text/plain": [
       "array([[68, 46],\n",
       "       [70, 95],\n",
       "       [83, 31],\n",
       "       [66, 80],\n",
       "       [52, 76]])"
      ]
     },
     "execution_count": 61,
     "metadata": {},
     "output_type": "execute_result"
    }
   ],
   "source": [
    "a"
   ]
  },
  {
   "cell_type": "code",
   "execution_count": 66,
   "id": "68e94fde",
   "metadata": {},
   "outputs": [
    {
     "data": {
      "text/plain": [
       "np.int64(76)"
      ]
     },
     "execution_count": 66,
     "metadata": {},
     "output_type": "execute_result"
    }
   ],
   "source": [
    "a[4][1]"
   ]
  },
  {
   "cell_type": "code",
   "execution_count": 67,
   "id": "8fd3fc96",
   "metadata": {},
   "outputs": [
    {
     "data": {
      "text/plain": [
       "array([[ True, False],\n",
       "       [ True,  True],\n",
       "       [ True, False],\n",
       "       [ True,  True],\n",
       "       [False,  True]])"
      ]
     },
     "execution_count": 67,
     "metadata": {},
     "output_type": "execute_result"
    }
   ],
   "source": [
    "a >= 60"
   ]
  },
  {
   "cell_type": "code",
   "execution_count": 68,
   "id": "bca43c2c",
   "metadata": {},
   "outputs": [
    {
     "data": {
      "text/plain": [
       "array([[213.16, 104.04],\n",
       "       [225.  , 400.  ],\n",
       "       [309.76,  51.84],\n",
       "       [201.64, 289.  ],\n",
       "       [129.96, 262.44]])"
      ]
     },
     "execution_count": 68,
     "metadata": {},
     "output_type": "execute_result"
    }
   ],
   "source": [
    "b"
   ]
  },
  {
   "cell_type": "code",
   "execution_count": 69,
   "id": "f6e89611",
   "metadata": {},
   "outputs": [
    {
     "data": {
      "text/plain": [
       "array([[False, False],\n",
       "       [False, False],\n",
       "       [False, False],\n",
       "       [False, False],\n",
       "       [False, False]])"
      ]
     },
     "execution_count": 69,
     "metadata": {},
     "output_type": "execute_result"
    }
   ],
   "source": [
    "a > b"
   ]
  },
  {
   "cell_type": "code",
   "execution_count": 71,
   "id": "15a5a80a",
   "metadata": {},
   "outputs": [
    {
     "data": {
      "text/plain": [
       "array([68, 46, 70, 95, 83, 31, 66, 80, 52, 76])"
      ]
     },
     "execution_count": 71,
     "metadata": {},
     "output_type": "execute_result"
    }
   ],
   "source": [
    "a[a > b/45]"
   ]
  },
  {
   "cell_type": "markdown",
   "id": "0259499b",
   "metadata": {},
   "source": [
    "## Summarizing operations"
   ]
  },
  {
   "cell_type": "code",
   "execution_count": 72,
   "id": "c1b30281",
   "metadata": {},
   "outputs": [
    {
     "data": {
      "text/plain": [
       "array([[68, 46],\n",
       "       [70, 95],\n",
       "       [83, 31],\n",
       "       [66, 80],\n",
       "       [52, 76]])"
      ]
     },
     "execution_count": 72,
     "metadata": {},
     "output_type": "execute_result"
    }
   ],
   "source": [
    "a"
   ]
  },
  {
   "cell_type": "code",
   "execution_count": 73,
   "id": "d850c2aa",
   "metadata": {},
   "outputs": [
    {
     "data": {
      "text/plain": [
       "np.float64(18.06128456118224)"
      ]
     },
     "execution_count": 73,
     "metadata": {},
     "output_type": "execute_result"
    }
   ],
   "source": [
    "a.std()"
   ]
  },
  {
   "cell_type": "code",
   "execution_count": 75,
   "id": "2b2587f2",
   "metadata": {},
   "outputs": [
    {
     "data": {
      "text/plain": [
       "np.int64(1)"
      ]
     },
     "execution_count": 75,
     "metadata": {},
     "output_type": "execute_result"
    }
   ],
   "source": [
    "m.min()"
   ]
  },
  {
   "cell_type": "code",
   "execution_count": 78,
   "id": "1987f3b0",
   "metadata": {},
   "outputs": [
    {
     "data": {
      "text/plain": [
       "np.int64(20)"
      ]
     },
     "execution_count": 78,
     "metadata": {},
     "output_type": "execute_result"
    }
   ],
   "source": [
    "m.max()"
   ]
  },
  {
   "cell_type": "markdown",
   "id": "0662686b",
   "metadata": {},
   "source": [
    "### Next\n",
    "\n",
    "Linear algebra refresher"
   ]
  }
 ],
 "metadata": {
  "kernelspec": {
   "display_name": "Python 3 (ipykernel)",
   "language": "python",
   "name": "python3"
  },
  "language_info": {
   "codemirror_mode": {
    "name": "ipython",
    "version": 3
   },
   "file_extension": ".py",
   "mimetype": "text/x-python",
   "name": "python",
   "nbconvert_exporter": "python",
   "pygments_lexer": "ipython3",
   "version": "3.10.13"
  }
 },
 "nbformat": 4,
 "nbformat_minor": 5
}
